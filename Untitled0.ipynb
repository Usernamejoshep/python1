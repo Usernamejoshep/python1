{
  "nbformat": 4,
  "nbformat_minor": 0,
  "metadata": {
    "colab": {
      "name": "Untitled0.ipynb",
      "provenance": [],
      "authorship_tag": "ABX9TyPi4H4KExuYvKleFeP7BvNt",
      "include_colab_link": true
    },
    "kernelspec": {
      "name": "python3",
      "display_name": "Python 3"
    },
    "language_info": {
      "name": "python"
    }
  },
  "cells": [
    {
      "cell_type": "markdown",
      "metadata": {
        "id": "view-in-github",
        "colab_type": "text"
      },
      "source": [
        "<a href=\"https://colab.research.google.com/github/Usernamejoshep/python1/blob/main/Untitled0.ipynb\" target=\"_parent\"><img src=\"https://colab.research.google.com/assets/colab-badge.svg\" alt=\"Open In Colab\"/></a>"
      ]
    },
    {
      "cell_type": "code",
      "metadata": {
        "id": "_E8FxcZ1sDl3"
      },
      "source": [
        "if 20>10: #참\n",
        " print(\"참입니다\")\n",
        "else:\n",
        " print(\"거짓입니다\")\n",
        "\n",
        "\n",
        "elif score>=90 :\n",
        "  print\n",
        "elif score>=80\n",
        "elif score>=70\n",
        "elif score>=60"
      ],
      "execution_count": null,
      "outputs": []
    }
  ]
}